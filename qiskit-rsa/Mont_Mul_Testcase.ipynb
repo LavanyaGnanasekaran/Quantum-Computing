{
 "cells": [
  {
   "cell_type": "code",
   "execution_count": 3,
   "metadata": {},
   "outputs": [
    {
     "name": "stdout",
     "output_type": "stream",
     "text": [
      "00110\n",
      "00001\n",
      "00110\n",
      "00001\n",
      "0000011\n"
     ]
    }
   ],
   "source": [
    "# from qiskit import ClassicalRegister, QuantumRegister\n",
    "# from qiskit import QuantumCircuit\n",
    "# from QFTAddition import add\n",
    "# from qiskit import execute\n",
    "# from qiskit import Aer\n",
    "# from BitwiseOperations import rshift\n",
    "# from QFTSubtraction import sub\n",
    "from Mont_Modular_Multiplication import Mont_Mul\n",
    "\n",
    "# x = input('Enter the binary number for x: ')\n",
    "# y = input('Enter the binary number for y: ')\n",
    "# m = input('ENter the binary number for m: ')\n",
    "\n",
    "# 6 * 1 mod 7 = 6\n",
    "x = '110'\n",
    "y = '001'\n",
    "m = '111'\n",
    "result = Mont_Mul(x,y,m)\n",
    "print(result)\n",
    "\n",
    "# 1 * 1 mod 7 = 1\n",
    "x = '001'\n",
    "y = '001'\n",
    "m = '111'\n",
    "result = Mont_Mul(x,y,m)\n",
    "print(result)\n",
    "\n",
    "# 1 * 6 mod 7 = 6\n",
    "x = '001'\n",
    "y = '110'\n",
    "m = '111'\n",
    "result = Mont_Mul(x,y,m)\n",
    "print(result)\n",
    "\n",
    "# 6 * 6 mod 7 = 1\n",
    "x = '110'\n",
    "y = '110'\n",
    "m = '111'\n",
    "result = Mont_Mul(x,y,m)\n",
    "print(result)\n",
    "\n",
    "# 1 * 1 mod 5 = 3\n",
    "x = '00001'\n",
    "y = '00001'\n",
    "m = '00101'\n",
    "result = Mont_Mul(x,y,m)\n",
    "print(result)"
   ]
  },
  {
   "cell_type": "code",
   "execution_count": null,
   "metadata": {},
   "outputs": [],
   "source": []
  }
 ],
 "metadata": {
  "kernelspec": {
   "display_name": "Python 3",
   "language": "python",
   "name": "python3"
  },
  "language_info": {
   "codemirror_mode": {
    "name": "ipython",
    "version": 3
   },
   "file_extension": ".py",
   "mimetype": "text/x-python",
   "name": "python",
   "nbconvert_exporter": "python",
   "pygments_lexer": "ipython3",
   "version": "3.7.3"
  }
 },
 "nbformat": 4,
 "nbformat_minor": 2
}
