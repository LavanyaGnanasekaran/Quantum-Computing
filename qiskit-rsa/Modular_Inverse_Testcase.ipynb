{
 "cells": [
  {
   "cell_type": "code",
   "execution_count": 5,
   "metadata": {},
   "outputs": [
    {
     "name": "stdout",
     "output_type": "stream",
     "text": [
      "Enter x in binary 101111111\n",
      "Enter y in binary 100001111\n",
      "Results for modular inverse:  1101010\n",
      "Time taken to execute: 0.0009963512420654297 seconds\n"
     ]
    }
   ],
   "source": [
    "from Binary_Extended_GCD import Mod_Inv\n",
    "import time\n",
    "# # 271^-1 mod 383 = 106\n",
    "# x = '101111111' #383\n",
    "# y = '100001111' #271\n",
    "\n",
    "x = input(\"Enter x in binary \")\n",
    "y = input(\"Enter y in binary \")\n",
    "\n",
    "\n",
    "# # 5^-1 mod 24 = 5\n",
    "# x = '11000' #24\n",
    "# y = '101' #5\n",
    "\n",
    "\n",
    "# # 35^-1 mod 24 = 11\n",
    "# x = '11000' #24\n",
    "# y = '100011' #35\n",
    "\n",
    "\n",
    "# #expected answer 38\n",
    "# x = \"000101011\"; #43\n",
    "# y = \"000010001\"; #17\n",
    "\n",
    "\n",
    "# # 35^-1 mod 58 = 5\n",
    "# y = '100011' #35\n",
    "# x = '111010' #58\n",
    "start_time = time.time()\n",
    "Ans = Mod_Inv(x,y)\n",
    "print(\"Results for modular inverse: \", Ans)\n",
    "print(\"Time taken to execute: %s seconds\" % (time.time() - start_time))"
   ]
  }
 ],
 "metadata": {
  "kernelspec": {
   "display_name": "Python 3",
   "language": "python",
   "name": "python3"
  },
  "language_info": {
   "codemirror_mode": {
    "name": "ipython",
    "version": 3
   },
   "file_extension": ".py",
   "mimetype": "text/x-python",
   "name": "python",
   "nbconvert_exporter": "python",
   "pygments_lexer": "ipython3",
   "version": "3.7.3"
  }
 },
 "nbformat": 4,
 "nbformat_minor": 2
}
