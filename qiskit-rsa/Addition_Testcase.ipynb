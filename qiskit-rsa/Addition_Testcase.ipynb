{
 "cells": [
  {
   "cell_type": "code",
   "execution_count": 3,
   "metadata": {},
   "outputs": [
    {
     "name": "stdout",
     "output_type": "stream",
     "text": [
      "Enter a number with less than 10 digits.11111111111111\n",
      "Enter another number with less than 10 digits.11111111111111\n",
      "{'111111111111110': 2}\n",
      "Wall time: 9min 49s\n"
     ]
    }
   ],
   "source": [
    "%%time\n",
    "from QFTAddition import add\n",
    "from qiskit import ClassicalRegister, QuantumRegister\n",
    "from qiskit import QuantumCircuit\n",
    "from qiskit import execute\n",
    "from qiskit import IBMQ\n",
    "import math\n",
    "import operator\n",
    "\n",
    "# provider = IBMQ.enable_account('b7991180ef72200660aeb528a44b3a547d8b7898a03598189e39cff30d92681f29cb01a8dcb6a7cd64534ec19d65890f2f635311c1514cb70ed50b0482f1350b')\n",
    "# qasm_sim = provider.get_backend('ibmq_qasm_simulator')\n",
    "\n",
    "#Take two numbers as user input in binary form   \n",
    "first = input(\"Enter a number with less than 10 digits.\")\n",
    "second = input(\"Enter another number with less than 10 digits.\")\n",
    "\n",
    "l1 = len(first)\n",
    "l2 = len(second)\n",
    "#Making sure that 'first' and 'second' are of the same length \n",
    "#by padding the smaller string with zeros\n",
    "if l2>l1:\n",
    "    first,second = second, first\n",
    "    l2, l1 = l1, l2\n",
    "second = (\"0\")*(l1-l2) + second\n",
    "\n",
    "\n",
    "n = len(first)\n",
    "pie = math.pi\n",
    "a = QuantumRegister(n+1, \"a\") #Holds the first number\n",
    "b = QuantumRegister(n+1, \"b\") #Holds the second number \n",
    "cl = ClassicalRegister(n+1, \"cl\") #Holds the final output\n",
    "qc = QuantumCircuit(a, b, cl, name=\"qc\")\n",
    "\n",
    "\n",
    "\n",
    "#Flip the corresponding qubit in register a if a bit in the \n",
    "#string first is a 1\n",
    "for i in range(0, n):\n",
    "    if first[i] == \"1\":\n",
    "        qc.x(a[n-(i+1)])\n",
    "#Flip the corresponding qubit in register b if a bit in the \n",
    "#string second is a 1\n",
    "for i in range(0, n):\n",
    "    if second[i] == \"1\":\n",
    "        qc.x(b[n-(i+1)])\n",
    "        \n",
    "add(a, b, qc)\n",
    "\n",
    "for i in range(0, n+1):\n",
    "    qc.measure(a[i], cl[i])\n",
    "    \n",
    "    #Select backend and execute job\n",
    "result = execute(qc, backend= qasm_sim, shots=2).result()\n",
    "counts = result.get_counts(\"qc\")\n",
    "print(counts)\n",
    "#Select result with maximum count\n",
    "output = max(counts.items(), key=operator.itemgetter(1))[0]"
   ]
  },
  {
   "cell_type": "code",
   "execution_count": null,
   "metadata": {},
   "outputs": [],
   "source": []
  }
 ],
 "metadata": {
  "kernelspec": {
   "display_name": "Python 3",
   "language": "python",
   "name": "python3"
  },
  "language_info": {
   "codemirror_mode": {
    "name": "ipython",
    "version": 3
   },
   "file_extension": ".py",
   "mimetype": "text/x-python",
   "name": "python",
   "nbconvert_exporter": "python",
   "pygments_lexer": "ipython3",
   "version": "3.7.3"
  }
 },
 "nbformat": 4,
 "nbformat_minor": 2
}
