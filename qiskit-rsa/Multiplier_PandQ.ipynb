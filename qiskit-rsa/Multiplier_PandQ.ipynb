{
 "cells": [
  {
   "cell_type": "code",
   "execution_count": 3,
   "metadata": {},
   "outputs": [
    {
     "name": "stdout",
     "output_type": "stream",
     "text": [
      "P =  0b1011\n",
      "Q =  0b1101\n",
      "dict_keys(['000000001100'])\n",
      "dict_keys(['000000001011'])\n",
      "dict_keys(['000000001010'])\n",
      "dict_keys(['000000001001'])\n",
      "dict_keys(['000000001000'])\n",
      "dict_keys(['000000000111'])\n",
      "dict_keys(['000000000110'])\n",
      "dict_keys(['000000000101'])\n",
      "dict_keys(['000000000100'])\n",
      "dict_keys(['000000000011'])\n",
      "dict_keys(['000000000010'])\n",
      "dict_keys(['000000000001'])\n",
      "dict_keys(['000000000000'])\n",
      "P * Q =  {'000010001111': 2}\n"
     ]
    }
   ],
   "source": [
    "from qiskit import ClassicalRegister, QuantumRegister\n",
    "from qiskit import QuantumCircuit\n",
    "from qiskit import execute\n",
    "from qiskit import IBMQ\n",
    "import math\n",
    "import operator\n",
    "from qiskit import Aer\n",
    "from GenerateLargePrime import generateLargePrime \n",
    "\n",
    "\n",
    "provider = IBMQ.enable_account('b7991180ef72200660aeb528a44b3a547d8b7898a03598189e39cff30d92681f29cb01a8dcb6a7cd64534ec19d65890f2f635311c1514cb70ed50b0482f1350b')\n",
    "qasm_sim = provider.get_backend('ibmq_qasm_simulator')\n",
    "\n",
    "def createInputState(qc, reg, n, pie):\n",
    "    \"\"\"\n",
    "    Apply one Hadamard gate to the nth qubit of the quantum register               \n",
    "    reg, and then apply repeated phase rotations with parameters  \n",
    "    being pi divided by increasing powers of two.\n",
    "    \"\"\"\n",
    "    qc.h(reg[n])    \n",
    "    for i in range(0, n):\n",
    "        qc.cu1(pie/float(2**(i+1)), reg[n-(i+1)], reg[n])\n",
    "        \n",
    "def evolveQFTState(qc, reg_a, reg_b, n, pie, factor):\n",
    "    \"\"\"  \n",
    "    Evolves the state |F(ψ(reg_a))> to |F(ψ(reg_a+reg_b))> using the   \n",
    "    quantum Fourier transform conditioned on the qubits of the \n",
    "    reg_b. Apply repeated phase rotations with parameters being pi \n",
    "    divided by increasing powers of two.\n",
    "    \"\"\"\n",
    "    l = len(reg_b)\n",
    "    for i in range(0, n + 1):\n",
    "        if (n - i) > l - 1:\n",
    "            pass\n",
    "        else:\n",
    "            qc.cu1(factor * pie / float(2**(i)), reg_b[n - i], reg_a[n])\n",
    "            \n",
    "def inverseQFT(qc, reg, n, pie):\n",
    "    \"\"\"\n",
    "    Performs the inverse quantum Fourier transform on a register \n",
    "    reg. Apply repeated phase rotations with parameters being pi    \n",
    "    divided by decreasing powers of two, and then apply a Hadamard \n",
    "    gate to the nth qubit of the register reg.\n",
    "    \"\"\"\n",
    "    for i in range(0, n):\n",
    "        qc.cu1(-1*pie/float(2**(n-i)), reg[i], reg[n])\n",
    "    qc.h(reg[n])\n",
    "    \n",
    "def add(reg_a, reg_b, circ, factor):\n",
    "    \"\"\"\n",
    "    Add two quantum registers reg_a and reg_b, and store the result \n",
    "    in reg_a.\n",
    "    \"\"\"\n",
    "    pie = math.pi\n",
    "    n = len(reg_a)\n",
    "    # Compute the Fourier transform of register a\n",
    "    for i in range(0, n):\n",
    "        createInputState(circ, reg_a, n - (i+1), pie)\n",
    "    # Add the two numbers by evolving the Fourier transform   \n",
    "    # F(ψ(reg_a))> to |F(ψ(reg_a+reg_b))>\n",
    "    for i in range(0, n):\n",
    "        evolveQFTState(circ, reg_a, reg_b, n - (i+1), pie, factor)\n",
    "    # Compute the inverse Fourier transform of register a\n",
    "    for i in range(0, n):\n",
    "        inverseQFT(circ, reg_a, i, pie)\n",
    "        \n",
    "        \n",
    "# P and Q random prime number Generation\n",
    "\n",
    "P = bin((generateLargePrime()))\n",
    "Q = bin((generateLargePrime()))\n",
    "while (P == Q):\n",
    "    Q =bin((generateLargePrime()))\n",
    "    \n",
    "    \n",
    "print(\"P = \", P)\n",
    "print(\"Q = \", Q)\n",
    "        \n",
    "# # Take two numbers as user input in binary form\n",
    "# multiplicand_in = input(\"Enter the prime no: P = \")\n",
    "l1 = len(P)\n",
    "# multiplier_in = input(\"Enter the prime no: Q = .\")\n",
    "l2 = len(Q)\n",
    "# Make sure multiplicand_in holds the larger number\n",
    "if l2 > l1:\n",
    "    P, Q = Q, P\n",
    "    l2, l1 = l1, l2\n",
    "    \n",
    "accumulator = QuantumRegister(l1 + l2)\n",
    "multiplicand = QuantumRegister(l1)\n",
    "multiplier = QuantumRegister(l2)\n",
    "d = QuantumRegister(1)\n",
    "cl = ClassicalRegister(l1 + l2)\n",
    "circ = QuantumCircuit(accumulator, multiplicand, multiplier, \n",
    "    d, cl, name=\"circ\")\n",
    "circ.x(d[0])\n",
    "\n",
    "for i in range(l1):\n",
    "    if P[i] == '1':\n",
    "        circ.x(multiplicand[l1 - i - 1])\n",
    "for i in range(l2):\n",
    "    if Q[i] == '1':\n",
    "        circ.x(multiplier[l2 - i - 1])\n",
    "        \n",
    "multiplier_str = '1'\n",
    "while(int(multiplier_str) != 0):\n",
    "    add(accumulator, multiplicand, circ, 1)\n",
    "    add(multiplier, d, circ, -1)\n",
    "    for i in range(len(multiplier)):\n",
    "        circ.measure(multiplier[i], cl[i])\n",
    "    result = execute(circ, qasm_sim,\n",
    "                shots=2).result().get_counts(circ.name)\n",
    "    print(result.keys())\n",
    "    multiplier_str = list(result.keys())[0]\n",
    "    #print(multiplier_str)\n",
    "    \n",
    "circ.measure(accumulator, cl)\n",
    "result = execute(circ,qasm_sim ,\n",
    "            shots=2).result().get_counts(circ.name)\n",
    "\n",
    "print(\"P * Q = \", result)"
   ]
  },
  {
   "cell_type": "code",
   "execution_count": 4,
   "metadata": {},
   "outputs": [
    {
     "name": "stdout",
     "output_type": "stream",
     "text": [
      "0b101\n"
     ]
    }
   ],
   "source": [
    "print(bin(5))"
   ]
  },
  {
   "cell_type": "code",
   "execution_count": 1,
   "metadata": {},
   "outputs": [
    {
     "ename": "NameError",
     "evalue": "name 'circ' is not defined",
     "output_type": "error",
     "traceback": [
      "\u001b[1;31m---------------------------------------------------------------------------\u001b[0m",
      "\u001b[1;31mNameError\u001b[0m                                 Traceback (most recent call last)",
      "\u001b[1;32m<ipython-input-1-763038124294>\u001b[0m in \u001b[0;36m<module>\u001b[1;34m\u001b[0m\n\u001b[1;32m----> 1\u001b[1;33m \u001b[0mcirc\u001b[0m\u001b[1;33m.\u001b[0m\u001b[0mdraw\u001b[0m\u001b[1;33m(\u001b[0m\u001b[0moutput\u001b[0m \u001b[1;33m=\u001b[0m \u001b[1;34m'mpl'\u001b[0m\u001b[1;33m)\u001b[0m\u001b[1;33m\u001b[0m\u001b[1;33m\u001b[0m\u001b[0m\n\u001b[0m",
      "\u001b[1;31mNameError\u001b[0m: name 'circ' is not defined"
     ]
    }
   ],
   "source": [
    "circ.draw(output = 'mpl')"
   ]
  }
 ],
 "metadata": {
  "kernelspec": {
   "display_name": "Python 3",
   "language": "python",
   "name": "python3"
  },
  "language_info": {
   "codemirror_mode": {
    "name": "ipython",
    "version": 3
   },
   "file_extension": ".py",
   "mimetype": "text/x-python",
   "name": "python",
   "nbconvert_exporter": "python",
   "pygments_lexer": "ipython3",
   "version": "3.7.3"
  }
 },
 "nbformat": 4,
 "nbformat_minor": 2
}
