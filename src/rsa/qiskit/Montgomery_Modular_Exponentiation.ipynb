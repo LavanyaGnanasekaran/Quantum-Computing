{
 "cells": [
  {
   "cell_type": "code",
   "execution_count": 6,
   "metadata": {},
   "outputs": [
    {
     "name": "stdout",
     "output_type": "stream",
     "text": [
      "Enter the binary number for x: 110\n",
      "Enter the binary number for e: 11\n",
      "Enter the binary number for m: 111\n",
      "Result for Montgomery modular exponentiation:  00110\n",
      "Time taken to execute: 4.791259765625 seconds\n"
     ]
    }
   ],
   "source": [
    "from Mont_Modular_Multiplication import Mont_Mul\n",
    "import time\n",
    "\n",
    "x = input('Enter the binary number for x: ')\n",
    "e = input('Enter the binary number for e: ')\n",
    "# Note: always m should be odd number\n",
    "m = input('Enter the binary number for m: ')\n",
    "\n",
    "start_time = time.time()\n",
    "# Length of m\n",
    "L = len(m)\n",
    "\n",
    "# R calculation\n",
    "R = 2**L\n",
    "\n",
    "# R mod m or Initial A calculation:\n",
    "R_mod_m = R % int(m,2) #int('string', base)\n",
    "A = str(R_mod_m)\n",
    "A = str(bin(int(A))[2:]).zfill(L)\n",
    "# print('A = R_mod_m =', A)\n",
    "\n",
    "\n",
    "# R^2 mod m calculation\n",
    "R_square_mod_m = str(((R**2) % int(m,2)))\n",
    "T = len(e)\n",
    "R_square_mod_m = str((bin(int(R_square_mod_m))[2:])).zfill(L)\n",
    "# print('R_square_mod_m = ',R_square_mod_m)\n",
    "\n",
    "# writing input x in montgomery domain called x_dash\n",
    "x_dash = Mont_Mul(x, R_square_mod_m, m)\n",
    "# print('xdash =', x_dash)\n",
    "\n",
    "for i in range(0,T):\n",
    "    if (len(A) > L):\n",
    "        A = A[2:L+2]\n",
    "    A = Mont_Mul(A, A, m)\n",
    "#     print('Mont(A,A) = ',A)\n",
    "    if e[i] == '1':\n",
    "        A = Mont_Mul(A[2:L+2], x_dash[2:L+2], m)\n",
    "#         print(\"Mont(A, x_dash) =\", A)\n",
    "\n",
    "A = Mont_Mul(A[2:L+2], '1'.zfill(L), m)\n",
    "print(\"Result for Montgomery modular exponentiation: \",A)\n",
    "print(\"Time taken to execute: %s seconds\" % (time.time() - start_time))"
   ]
  },
  {
   "cell_type": "code",
   "execution_count": 4,
   "metadata": {},
   "outputs": [
    {
     "name": "stdout",
     "output_type": "stream",
     "text": [
      "['a', 'b']\n"
     ]
    }
   ],
   "source": [
    "T = ['a', 'b', 'c']\n",
    "print(T[0:2])\n"
   ]
  }
 ],
 "metadata": {
  "kernelspec": {
   "display_name": "Python 3",
   "language": "python",
   "name": "python3"
  },
  "language_info": {
   "codemirror_mode": {
    "name": "ipython",
    "version": 3
   },
   "file_extension": ".py",
   "mimetype": "text/x-python",
   "name": "python",
   "nbconvert_exporter": "python",
   "pygments_lexer": "ipython3",
   "version": "3.7.3"
  }
 },
 "nbformat": 4,
 "nbformat_minor": 2
}
