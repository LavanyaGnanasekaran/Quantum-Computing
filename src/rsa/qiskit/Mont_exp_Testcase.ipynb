{
 "cells": [
  {
   "cell_type": "code",
   "execution_count": 3,
   "metadata": {},
   "outputs": [
    {
     "name": "stdout",
     "output_type": "stream",
     "text": [
      "Exponention result =  00010111\n",
      "Wall time: 28min 7s\n"
     ]
    }
   ],
   "source": [
    "%%time\n",
    "from Mont_Modular_Exponentiation import Mont_Exp\n",
    "\n",
    "# # always m should be odd number\n",
    "# # 6^3 mod 7 = 6\n",
    "# x = '110'\n",
    "# e = '11'\n",
    "# m = '111'\n",
    "# A = Mont_Exp(x,e,m)\n",
    "# print(\"Exponention result = \",A)\n",
    "\n",
    "# # 5^2 mod 7 = 4\n",
    "# x = '101'\n",
    "# e = '10'\n",
    "# m = '111'\n",
    "# A = Mont_Exp(x,e,m)\n",
    "# print(\"Exponention result = \",A)\n",
    "\n",
    "# # 25^2 mod 31 = 5\n",
    "# x = '11001'\n",
    "# e = '10'\n",
    "# m = '11111'\n",
    "# A = Mont_Exp(x,e,m)\n",
    "# print(\"Exponention result = \",A)\n",
    "\n",
    "# 53^5 mod 35 = 23\n",
    "x = '110101'\n",
    "e = '101'\n",
    "m = '100011'\n",
    "A = Mont_Exp(x,e,m)\n",
    "print(\"Exponention result = \",A)\n"
   ]
  }
 ],
 "metadata": {
  "kernelspec": {
   "display_name": "Python 3",
   "language": "python",
   "name": "python3"
  },
  "language_info": {
   "codemirror_mode": {
    "name": "ipython",
    "version": 3
   },
   "file_extension": ".py",
   "mimetype": "text/x-python",
   "name": "python",
   "nbconvert_exporter": "python",
   "pygments_lexer": "ipython3",
   "version": "3.7.3"
  }
 },
 "nbformat": 4,
 "nbformat_minor": 2
}
