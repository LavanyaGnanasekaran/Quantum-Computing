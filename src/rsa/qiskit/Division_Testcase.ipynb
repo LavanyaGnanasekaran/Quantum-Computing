{
 "cells": [
  {
   "cell_type": "code",
   "execution_count": 1,
   "metadata": {},
   "outputs": [
    {
     "name": "stdout",
     "output_type": "stream",
     "text": [
      "Enter a number in binary to divide by 2: 1111\n",
      "{'0111': 2}\n"
     ]
    }
   ],
   "source": [
    "# Import the Qiskit SDK\n",
    "from qiskit import QuantumCircuit, ClassicalRegister, QuantumRegister\n",
    "from qiskit import execute, Aer\n",
    "from BitwiseOperations import rshift\n",
    "\n",
    "num = input(\"Enter a number in binary to divide by 2: \")\n",
    "\n",
    "# Input N\n",
    "n = len(num)\n",
    "\n",
    "b = QuantumRegister(n)\n",
    "onequbit = QuantumRegister(1)\n",
    "\n",
    "cb = ClassicalRegister(n)\n",
    "\n",
    "qc = QuantumCircuit(b, onequbit, cb)\n",
    "\n",
    "# b = 10101\n",
    "# qc.x(b[0])\n",
    "# qc.x(b[2])\n",
    "# qc.x(b[4])\n",
    "\n",
    "# b = 111101\n",
    "for i in range(0, n):\n",
    "    if num[i] == \"1\":\n",
    "        qc.x(b[n - i - 1])\n",
    "\n",
    "# Right-shift |b>.\n",
    "rshift(qc, b, n, onequbit)\n",
    "qc.measure(b, cb)\n",
    "\n",
    "# Simulate the circuit.\n",
    "backend_sim = Aer.get_backend('qasm_simulator')\n",
    "job_sim = execute(qc, backend_sim, shots=2)\n",
    "result_sim = job_sim.result()\n",
    "\n",
    "print(result_sim.get_counts(qc))\n",
    "\n",
    "\n"
   ]
  }
 ],
 "metadata": {
  "kernelspec": {
   "display_name": "Python 3",
   "language": "python",
   "name": "python3"
  },
  "language_info": {
   "codemirror_mode": {
    "name": "ipython",
    "version": 3
   },
   "file_extension": ".py",
   "mimetype": "text/x-python",
   "name": "python",
   "nbconvert_exporter": "python",
   "pygments_lexer": "ipython3",
   "version": "3.7.3"
  }
 },
 "nbformat": 4,
 "nbformat_minor": 2
}
